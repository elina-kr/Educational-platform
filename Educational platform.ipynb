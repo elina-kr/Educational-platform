{
 "cells": [
  {
   "cell_type": "code",
   "execution_count": 1,
   "metadata": {},
   "outputs": [
    {
     "name": "stderr",
     "output_type": "stream",
     "text": [
      "/opt/tljh/user/lib/python3.7/site-packages/outdated/utils.py:18: OutdatedCacheFailedWarning: Failed to use cache while checking for outdated package.\n",
      "Set the environment variable OUTDATED_RAISE_EXCEPTION=1 for a full traceback.\n",
      "Set the environment variable OUTDATED_IGNORE=1 to disable these warnings.\n",
      "  **kwargs\n",
      "/opt/tljh/user/lib/python3.7/site-packages/outdated/utils.py:18: OutdatedPackageWarning: The package pingouin is out of date. Your version is 0.4.0, the latest is 0.5.4.\n",
      "Set the environment variable OUTDATED_IGNORE=1 to disable these warnings.\n",
      "  **kwargs\n",
      "/opt/tljh/user/lib/python3.7/site-packages/outdated/utils.py:18: OutdatedPackageWarning: The package outdated is out of date. Your version is 0.2.1, the latest is 0.2.2.\n",
      "Set the environment variable OUTDATED_IGNORE=1 to disable these warnings.\n",
      "  **kwargs\n"
     ]
    }
   ],
   "source": [
    "import pandas as pd\n",
    "import numpy as np\n",
    "\n",
    "import scipy.stats as ss\n",
    "import pingouin as pg\n",
    "from scipy.stats import ttest_ind\n",
    "from scipy.stats import chi2_contingency, chi2 \n",
    "import requests\n",
    "from urllib.parse import urlencode\n",
    "\n",
    "import seaborn as sns\n",
    "import matplotlib.pyplot as plt\n",
    "import statsmodels.api as sm\n",
    "\n",
    "import pandahouse as ph\n"
   ]
  },
  {
   "cell_type": "markdown",
   "metadata": {},
   "source": [
    "# A/B Testing\n",
    "\n",
    "## 1.1 Condition\n",
    "\n",
    "One of the main tasks of an analyst in our team is to conduct experiments correctly. For this, we use the A/B testing method. During the testing of one hypothesis, the target group was offered a new payment mechanism on the website, while the control group retained the basic mechanism. My task is to analyze the results of the experiment and conclude whether it is worth launching the new payment mechanism for all users.\n",
    "\n",
    "## 1.2 Input Data\n",
    "\n",
    "The input data consists of 4 csv files:\n",
    "\n",
    "- `groups.csv` – a file with information about the user's belonging to the control or experimental group (A – control, B – target group).\n",
    "- `groups_add.csv` – an additional file with users, which was sent 2 days after the initial data transfer.\n",
    "- `active_studs.csv` – a file with information about users who visited the platform during the experiment.\n",
    "- `checks.csv` – a file with information about user payments during the experiment.\n",
    "\n",
    "## 1.3 Questions\n",
    "\n",
    "- What metrics should be considered during the analysis and why?\n",
    "- Are there any differences in the indicators, and what could they be related to?\n",
    "- Are these differences statistically significant?\n",
    "- Should the new payment mechanism be launched for all users?"
   ]
  },
  {
   "cell_type": "markdown",
   "metadata": {},
   "source": [
    "# EDA"
   ]
  },
  {
   "cell_type": "code",
   "execution_count": 2,
   "metadata": {},
   "outputs": [],
   "source": [
    "def read_yd_csv(url_groups, separator):\n",
    "    \"\"\"\n",
    "    Reads a CSV file from Yandex Disk using a public URL and the specified separator.\n",
    "    \n",
    "    Parameters:\n",
    "    - url_groups (str): Public URL of the CSV file on Yandex Disk.\n",
    "    - separator (str): Separator used in the CSV file.\n",
    "    \n",
    "    Returns:\n",
    "    - df (DataFrame): DataFrame created from the downloaded CSV file.\n",
    "    \"\"\"\n",
    "    \n",
    "    # Base URL for accessing Yandex Disk\n",
    "    base_url = 'https://cloud-api.yandex.net/v1/disk/public/resources/download?'\n",
    "    \n",
    "    # Create the final URL for downloading the file,\n",
    "    # combining the base URL and query parameters using urlencode() from the urllib.parse module\n",
    "    final_url_groups = base_url + urlencode(dict(public_key=url_groups))  \n",
    "    \n",
    "    # Make a request to the Yandex Disk API to download the file using the final URL\n",
    "    response_groups = requests.get(final_url_groups)  \n",
    "    \n",
    "    # The requests.get() function returns a response in JSON format, from which the download URL ('href') is extracted\n",
    "    download_url_groups = response_groups.json()['href']\n",
    "    \n",
    "    # Read the CSV file using the obtained URL and specified separator\n",
    "    df = pd.read_csv(download_url_groups, sep=separator)\n",
    "    \n",
    "    return df"
   ]
  },
  {
   "cell_type": "code",
   "execution_count": 3,
   "metadata": {},
   "outputs": [],
   "source": [
    "df_groups = read_yd_csv('https://disk.yandex.ru/d/UhyYx41rTt3clQ', ';' )\n",
    "df_groups_add = read_yd_csv('https://disk.yandex.ru/d/5Kxrz02m3IBUwQ', ',' )\n",
    "df_active_studs = read_yd_csv('https://disk.yandex.ru/d/Tbs44Bm6H_FwFQ', ';' )\n",
    "df_checks = read_yd_csv('https://disk.yandex.ru/d/pH1q-VqcxXjsVA', ';' )"
   ]
  },
  {
   "cell_type": "markdown",
   "metadata": {},
   "source": [
    "Check for duplicates in the data"
   ]
  },
  {
   "cell_type": "code",
   "execution_count": 4,
   "metadata": {},
   "outputs": [
    {
     "name": "stdout",
     "output_type": "stream",
     "text": [
      "The number of duplicates in the data: \n",
      "groups - 0;\n",
      "groups_add - 0;\n",
      "active_studs - 0;\n",
      "checks - 0.\n"
     ]
    }
   ],
   "source": [
    "groups = df_groups.id.duplicated().sum()\n",
    "groups_add = df_groups_add.id.duplicated().sum()\n",
    "active_studs = df_active_studs.student_id.duplicated().sum()\n",
    "checks = df_checks.student_id.duplicated().sum()\n",
    "print(f'''The number of duplicates in the data: \n",
    "groups - {groups};\n",
    "groups_add - {groups_add};\n",
    "active_studs - {active_studs};\n",
    "checks - {checks}.''')"
   ]
  },
  {
   "cell_type": "markdown",
   "metadata": {},
   "source": [
    "Look at the size of the dataframes"
   ]
  },
  {
   "cell_type": "code",
   "execution_count": 5,
   "metadata": {},
   "outputs": [
    {
     "name": "stdout",
     "output_type": "stream",
     "text": [
      "Dataframe sizes: \n",
      "groups - 74484;\n",
      "groups_add - 92;\n",
      "active_studs - 8341;\n",
      "checks - 541.\n"
     ]
    }
   ],
   "source": [
    "groups = df_groups.shape[0]\n",
    "groups_add = df_groups_add.shape[0]\n",
    "active_studs = df_active_studs.shape[0]\n",
    "checks = df_checks.shape[0]\n",
    "print(f'''Dataframe sizes: \n",
    "groups - {groups};\n",
    "groups_add - {groups_add};\n",
    "active_studs - {active_studs};\n",
    "checks - {checks}.''')"
   ]
  },
  {
   "cell_type": "markdown",
   "metadata": {},
   "source": [
    "Add an additional list with users to the main one"
   ]
  },
  {
   "cell_type": "code",
   "execution_count": 6,
   "metadata": {},
   "outputs": [],
   "source": [
    "df_all_groups = df_groups.append(df_groups_add)"
   ]
  },
  {
   "cell_type": "markdown",
   "metadata": {},
   "source": [
    "Are all active users on our list?"
   ]
  },
  {
   "cell_type": "code",
   "execution_count": 7,
   "metadata": {},
   "outputs": [
    {
     "data": {
      "text/html": [
       "<div>\n",
       "<style scoped>\n",
       "    .dataframe tbody tr th:only-of-type {\n",
       "        vertical-align: middle;\n",
       "    }\n",
       "\n",
       "    .dataframe tbody tr th {\n",
       "        vertical-align: top;\n",
       "    }\n",
       "\n",
       "    .dataframe thead th {\n",
       "        text-align: right;\n",
       "    }\n",
       "</style>\n",
       "<table border=\"1\" class=\"dataframe\">\n",
       "  <thead>\n",
       "    <tr style=\"text-align: right;\">\n",
       "      <th></th>\n",
       "      <th>id</th>\n",
       "      <th>grp</th>\n",
       "      <th>student_id</th>\n",
       "      <th>_merge</th>\n",
       "    </tr>\n",
       "  </thead>\n",
       "  <tbody>\n",
       "    <tr>\n",
       "      <th>0</th>\n",
       "      <td>1489</td>\n",
       "      <td>B</td>\n",
       "      <td>NaN</td>\n",
       "      <td>left_only</td>\n",
       "    </tr>\n",
       "    <tr>\n",
       "      <th>1</th>\n",
       "      <td>1627</td>\n",
       "      <td>A</td>\n",
       "      <td>1627.0</td>\n",
       "      <td>both</td>\n",
       "    </tr>\n",
       "    <tr>\n",
       "      <th>2</th>\n",
       "      <td>1768</td>\n",
       "      <td>B</td>\n",
       "      <td>NaN</td>\n",
       "      <td>left_only</td>\n",
       "    </tr>\n",
       "    <tr>\n",
       "      <th>3</th>\n",
       "      <td>1783</td>\n",
       "      <td>B</td>\n",
       "      <td>NaN</td>\n",
       "      <td>left_only</td>\n",
       "    </tr>\n",
       "    <tr>\n",
       "      <th>4</th>\n",
       "      <td>1794</td>\n",
       "      <td>A</td>\n",
       "      <td>NaN</td>\n",
       "      <td>left_only</td>\n",
       "    </tr>\n",
       "  </tbody>\n",
       "</table>\n",
       "</div>"
      ],
      "text/plain": [
       "     id grp  student_id     _merge\n",
       "0  1489   B         NaN  left_only\n",
       "1  1627   A      1627.0       both\n",
       "2  1768   B         NaN  left_only\n",
       "3  1783   B         NaN  left_only\n",
       "4  1794   A         NaN  left_only"
      ]
     },
     "execution_count": 7,
     "metadata": {},
     "output_type": "execute_result"
    }
   ],
   "source": [
    "merged_df = df_all_groups.merge(df_active_studs, left_on='id', right_on='student_id', how='outer', indicator=True)\n",
    "merged_df.head()"
   ]
  },
  {
   "cell_type": "code",
   "execution_count": 8,
   "metadata": {},
   "outputs": [
    {
     "data": {
      "text/plain": [
       "_merge\n",
       "left_only     66235\n",
       "right_only        0\n",
       "both           8341\n",
       "dtype: int64"
      ]
     },
     "execution_count": 8,
     "metadata": {},
     "output_type": "execute_result"
    }
   ],
   "source": [
    "merged_df.groupby('_merge').size()"
   ]
  },
  {
   "cell_type": "markdown",
   "metadata": {},
   "source": [
    "I see that all active users are in the list (right_only =0)\n",
    "\n",
    "I'll check if all the users who bought are active users?"
   ]
  },
  {
   "cell_type": "code",
   "execution_count": 9,
   "metadata": {},
   "outputs": [
    {
     "data": {
      "text/html": [
       "<div>\n",
       "<style scoped>\n",
       "    .dataframe tbody tr th:only-of-type {\n",
       "        vertical-align: middle;\n",
       "    }\n",
       "\n",
       "    .dataframe tbody tr th {\n",
       "        vertical-align: top;\n",
       "    }\n",
       "\n",
       "    .dataframe thead th {\n",
       "        text-align: right;\n",
       "    }\n",
       "</style>\n",
       "<table border=\"1\" class=\"dataframe\">\n",
       "  <thead>\n",
       "    <tr style=\"text-align: right;\">\n",
       "      <th></th>\n",
       "      <th>student_id</th>\n",
       "      <th>rev</th>\n",
       "      <th>_merge</th>\n",
       "    </tr>\n",
       "  </thead>\n",
       "  <tbody>\n",
       "    <tr>\n",
       "      <th>0</th>\n",
       "      <td>581585</td>\n",
       "      <td>NaN</td>\n",
       "      <td>left_only</td>\n",
       "    </tr>\n",
       "    <tr>\n",
       "      <th>1</th>\n",
       "      <td>5723133</td>\n",
       "      <td>NaN</td>\n",
       "      <td>left_only</td>\n",
       "    </tr>\n",
       "    <tr>\n",
       "      <th>2</th>\n",
       "      <td>3276743</td>\n",
       "      <td>NaN</td>\n",
       "      <td>left_only</td>\n",
       "    </tr>\n",
       "    <tr>\n",
       "      <th>3</th>\n",
       "      <td>4238589</td>\n",
       "      <td>NaN</td>\n",
       "      <td>left_only</td>\n",
       "    </tr>\n",
       "    <tr>\n",
       "      <th>4</th>\n",
       "      <td>4475369</td>\n",
       "      <td>NaN</td>\n",
       "      <td>left_only</td>\n",
       "    </tr>\n",
       "  </tbody>\n",
       "</table>\n",
       "</div>"
      ],
      "text/plain": [
       "   student_id  rev     _merge\n",
       "0      581585  NaN  left_only\n",
       "1     5723133  NaN  left_only\n",
       "2     3276743  NaN  left_only\n",
       "3     4238589  NaN  left_only\n",
       "4     4475369  NaN  left_only"
      ]
     },
     "execution_count": 9,
     "metadata": {},
     "output_type": "execute_result"
    }
   ],
   "source": [
    "merged_df = df_active_studs.merge(df_checks, on='student_id', how='outer', indicator=True)\n",
    "merged_df.head()"
   ]
  },
  {
   "cell_type": "code",
   "execution_count": 10,
   "metadata": {},
   "outputs": [
    {
     "data": {
      "text/plain": [
       "_merge\n",
       "left_only     7949\n",
       "right_only     149\n",
       "both           392\n",
       "dtype: int64"
      ]
     },
     "execution_count": 10,
     "metadata": {},
     "output_type": "execute_result"
    }
   ],
   "source": [
    "merged_df.groupby('_merge').size()"
   ]
  },
  {
   "cell_type": "markdown",
   "metadata": {},
   "source": [
    "I see that there are 149 users who bought something, but not on the days of the experiment, so they should not be taken into account. \n",
    "\n",
    "I'll save the IDs of these users to further clarify the reason for the user data entering our data."
   ]
  },
  {
   "cell_type": "code",
   "execution_count": 11,
   "metadata": {},
   "outputs": [],
   "source": [
    "id_wrong = merged_df.query('_merge == \"right_only\"').student_id"
   ]
  },
  {
   "cell_type": "code",
   "execution_count": 12,
   "metadata": {},
   "outputs": [
    {
     "data": {
      "text/plain": [
       "set()"
      ]
     },
     "execution_count": 12,
     "metadata": {},
     "output_type": "execute_result"
    }
   ],
   "source": [
    "# Check if there is an intersection between user groups (Using sets)\n",
    "gr_a = set(df_all_groups.query(\"grp=='A'\").id)\n",
    "gr_b = set(df_all_groups.query(\"grp=='B'\").id)\n",
    "\n",
    "gr_a.intersection(gr_b)"
   ]
  },
  {
   "cell_type": "markdown",
   "metadata": {},
   "source": [
    "There is an empty set, i.e. these two sets do not intersect and we can conduct AB testing"
   ]
  },
  {
   "cell_type": "markdown",
   "metadata": {},
   "source": [
    "# Data preprocessing"
   ]
  },
  {
   "cell_type": "code",
   "execution_count": 13,
   "metadata": {},
   "outputs": [],
   "source": [
    "# Сonnect information about the group to active users \n",
    "df_active_groups = df_active_studs.merge(df_all_groups, left_on=\"student_id\", right_on = \"id\")\n"
   ]
  },
  {
   "cell_type": "code",
   "execution_count": 14,
   "metadata": {},
   "outputs": [],
   "source": [
    "# Add the payment attribute to the dataframe and the payment itself\n",
    "df = df_active_groups.merge(df_checks, how ='left', on = 'student_id')\n",
    "df['paid'] = np.where(df['rev'].isnull(), 0,1)"
   ]
  },
  {
   "cell_type": "code",
   "execution_count": 15,
   "metadata": {},
   "outputs": [
    {
     "data": {
      "text/html": [
       "<div>\n",
       "<style scoped>\n",
       "    .dataframe tbody tr th:only-of-type {\n",
       "        vertical-align: middle;\n",
       "    }\n",
       "\n",
       "    .dataframe tbody tr th {\n",
       "        vertical-align: top;\n",
       "    }\n",
       "\n",
       "    .dataframe thead th {\n",
       "        text-align: right;\n",
       "    }\n",
       "</style>\n",
       "<table border=\"1\" class=\"dataframe\">\n",
       "  <thead>\n",
       "    <tr style=\"text-align: right;\">\n",
       "      <th></th>\n",
       "      <th>student_id</th>\n",
       "      <th>id</th>\n",
       "      <th>grp</th>\n",
       "      <th>rev</th>\n",
       "      <th>paid</th>\n",
       "    </tr>\n",
       "  </thead>\n",
       "  <tbody>\n",
       "    <tr>\n",
       "      <th>0</th>\n",
       "      <td>581585</td>\n",
       "      <td>581585</td>\n",
       "      <td>A</td>\n",
       "      <td>0.0</td>\n",
       "      <td>0</td>\n",
       "    </tr>\n",
       "    <tr>\n",
       "      <th>1</th>\n",
       "      <td>5723133</td>\n",
       "      <td>5723133</td>\n",
       "      <td>A</td>\n",
       "      <td>0.0</td>\n",
       "      <td>0</td>\n",
       "    </tr>\n",
       "    <tr>\n",
       "      <th>2</th>\n",
       "      <td>3276743</td>\n",
       "      <td>3276743</td>\n",
       "      <td>B</td>\n",
       "      <td>0.0</td>\n",
       "      <td>0</td>\n",
       "    </tr>\n",
       "    <tr>\n",
       "      <th>3</th>\n",
       "      <td>4238589</td>\n",
       "      <td>4238589</td>\n",
       "      <td>A</td>\n",
       "      <td>0.0</td>\n",
       "      <td>0</td>\n",
       "    </tr>\n",
       "    <tr>\n",
       "      <th>4</th>\n",
       "      <td>4475369</td>\n",
       "      <td>4475369</td>\n",
       "      <td>B</td>\n",
       "      <td>0.0</td>\n",
       "      <td>0</td>\n",
       "    </tr>\n",
       "  </tbody>\n",
       "</table>\n",
       "</div>"
      ],
      "text/plain": [
       "   student_id       id grp  rev  paid\n",
       "0      581585   581585   A  0.0     0\n",
       "1     5723133  5723133   A  0.0     0\n",
       "2     3276743  3276743   B  0.0     0\n",
       "3     4238589  4238589   A  0.0     0\n",
       "4     4475369  4475369   B  0.0     0"
      ]
     },
     "execution_count": 15,
     "metadata": {},
     "output_type": "execute_result"
    }
   ],
   "source": [
    "# Fill in the missing values in the rev column with zeros for users who have not made purchases\n",
    "df['rev'].fillna(0, inplace=True)\n",
    "df.head()"
   ]
  },
  {
   "cell_type": "code",
   "execution_count": 16,
   "metadata": {},
   "outputs": [
    {
     "data": {
      "text/plain": [
       "grp\n",
       "A    1538\n",
       "B    6803\n",
       "dtype: int64"
      ]
     },
     "execution_count": 16,
     "metadata": {},
     "output_type": "execute_result"
    }
   ],
   "source": [
    "# The sizes of groups A and B\n",
    "df.groupby('grp').size()"
   ]
  },
  {
   "cell_type": "markdown",
   "metadata": {},
   "source": [
    "Are services being re-purchased?"
   ]
  },
  {
   "cell_type": "code",
   "execution_count": 17,
   "metadata": {},
   "outputs": [],
   "source": [
    "# Only purchases \n",
    "df_paid = df.query('paid == 1')"
   ]
  },
  {
   "cell_type": "code",
   "execution_count": 18,
   "metadata": {},
   "outputs": [
    {
     "data": {
      "text/html": [
       "<div>\n",
       "<style scoped>\n",
       "    .dataframe tbody tr th:only-of-type {\n",
       "        vertical-align: middle;\n",
       "    }\n",
       "\n",
       "    .dataframe tbody tr th {\n",
       "        vertical-align: top;\n",
       "    }\n",
       "\n",
       "    .dataframe thead th {\n",
       "        text-align: right;\n",
       "    }\n",
       "</style>\n",
       "<table border=\"1\" class=\"dataframe\">\n",
       "  <thead>\n",
       "    <tr style=\"text-align: right;\">\n",
       "      <th></th>\n",
       "      <th>grp</th>\n",
       "      <th>id</th>\n",
       "      <th>size</th>\n",
       "    </tr>\n",
       "  </thead>\n",
       "  <tbody>\n",
       "    <tr>\n",
       "      <th>0</th>\n",
       "      <td>A</td>\n",
       "      <td>1627</td>\n",
       "      <td>1</td>\n",
       "    </tr>\n",
       "    <tr>\n",
       "      <th>1</th>\n",
       "      <td>A</td>\n",
       "      <td>287008</td>\n",
       "      <td>1</td>\n",
       "    </tr>\n",
       "    <tr>\n",
       "      <th>2</th>\n",
       "      <td>A</td>\n",
       "      <td>332387</td>\n",
       "      <td>1</td>\n",
       "    </tr>\n",
       "    <tr>\n",
       "      <th>3</th>\n",
       "      <td>A</td>\n",
       "      <td>347455</td>\n",
       "      <td>1</td>\n",
       "    </tr>\n",
       "    <tr>\n",
       "      <th>4</th>\n",
       "      <td>A</td>\n",
       "      <td>445767</td>\n",
       "      <td>1</td>\n",
       "    </tr>\n",
       "  </tbody>\n",
       "</table>\n",
       "</div>"
      ],
      "text/plain": [
       "  grp      id  size\n",
       "0   A    1627     1\n",
       "1   A  287008     1\n",
       "2   A  332387     1\n",
       "3   A  347455     1\n",
       "4   A  445767     1"
      ]
     },
     "execution_count": 18,
     "metadata": {},
     "output_type": "execute_result"
    }
   ],
   "source": [
    "# Counting the number of orders per user:\n",
    "ord_per_user = df_paid.groupby([\"grp\", \"id\"], as_index=False).size()\n",
    "ord_per_user.head()"
   ]
  },
  {
   "cell_type": "code",
   "execution_count": 19,
   "metadata": {},
   "outputs": [
    {
     "data": {
      "text/plain": [
       "<matplotlib.axes._subplots.AxesSubplot at 0x7f9106d6edd8>"
      ]
     },
     "execution_count": 19,
     "metadata": {},
     "output_type": "execute_result"
    },
    {
     "data": {
      "image/png": "[encoded data removed]",
      "text/plain": [
       "<Figure size 432x288 with 1 Axes>"
      ]
     },
     "metadata": {
      "needs_background": "light"
     },
     "output_type": "display_data"
    }
   ],
   "source": [
    "# Schedule\n",
    "sns.countplot(data=ord_per_user, x=\"size\", hue=\"grp\" , palette=\"pastel\")"
   ]
  },
  {
   "cell_type": "markdown",
   "metadata": {},
   "source": [
    "I see that the user bought only once in both the test and control group, but the number of purchases increased in the test group"
   ]
  },
  {
   "cell_type": "markdown",
   "metadata": {},
   "source": [
    "# Metrics"
   ]
  },
  {
   "cell_type": "markdown",
   "metadata": {},
   "source": [
    "### 1. Conversion Rate\n",
    "\n",
    "The percentage of users who made a purchase out of the total number of active users.\n",
    "\n",
    "**Formula:**\n",
    "\n",
    "> Conversion Rate = (Number of users who made a purchase / Total number of active users) × 100\n",
    "\n",
    "### 2. Average Revenue Per User (ARPU)\n",
    "\n",
    "The average revenue generated from each active user.\n",
    "\n",
    "**Formula:**\n",
    "\n",
    "> ARPU = Total Revenue / Total number of active users\n",
    "\n",
    "### 3. Average Revenue Per Paying User (ARPPU)\n",
    "\n",
    "The average revenue from users who made a purchase.\n",
    "\n",
    "**Formula:**\n",
    "\n",
    "> ARPPU = Total revenue from paying users / Number of paying users"
   ]
  },
  {
   "cell_type": "markdown",
   "metadata": {},
   "source": [
    "# Hypothesis testing"
   ]
  },
  {
   "cell_type": "markdown",
   "metadata": {},
   "source": [
    "## Hypothesis 1:\n",
    "\n",
    "The conversion rate has changed.\n",
    "\n",
    "> Conversion Rate = (Number of users who made a purchase / Total number of active users) × 100\n",
    "\n",
    "> 𝐻0: The conversion rate is the same in the control and test groups.\n",
    "\n",
    "> 𝐻1: The conversion rate differs between the control and test groups.\n"
   ]
  },
  {
   "cell_type": "code",
   "execution_count": 20,
   "metadata": {},
   "outputs": [
    {
     "data": {
      "text/html": [
       "<div>\n",
       "<style scoped>\n",
       "    .dataframe tbody tr th:only-of-type {\n",
       "        vertical-align: middle;\n",
       "    }\n",
       "\n",
       "    .dataframe tbody tr th {\n",
       "        vertical-align: top;\n",
       "    }\n",
       "\n",
       "    .dataframe thead th {\n",
       "        text-align: right;\n",
       "    }\n",
       "</style>\n",
       "<table border=\"1\" class=\"dataframe\">\n",
       "  <thead>\n",
       "    <tr style=\"text-align: right;\">\n",
       "      <th></th>\n",
       "      <th>student_id</th>\n",
       "    </tr>\n",
       "    <tr>\n",
       "      <th>grp</th>\n",
       "      <th></th>\n",
       "    </tr>\n",
       "  </thead>\n",
       "  <tbody>\n",
       "    <tr>\n",
       "      <th>A</th>\n",
       "      <td>5.07</td>\n",
       "    </tr>\n",
       "    <tr>\n",
       "      <th>B</th>\n",
       "      <td>4.62</td>\n",
       "    </tr>\n",
       "  </tbody>\n",
       "</table>\n",
       "</div>"
      ],
      "text/plain": [
       "     student_id\n",
       "grp            \n",
       "A          5.07\n",
       "B          4.62"
      ]
     },
     "execution_count": 20,
     "metadata": {},
     "output_type": "execute_result"
    }
   ],
   "source": [
    "# Common CR for the control and test group\n",
    "CR = (df.query('paid == 1')\\\n",
    "      .groupby('grp')\\\n",
    "      .agg({'student_id': 'count'}) / df.groupby('grp')\\\n",
    "                                        .agg({'student_id': 'count'})).mul(100).round(2)\n",
    "\n",
    "CR"
   ]
  },
  {
   "cell_type": "code",
   "execution_count": 21,
   "metadata": {},
   "outputs": [],
   "source": [
    "df_CR = df.groupby(['grp', 'paid'], as_index = False)\\\n",
    "    .agg({'student_id': 'count'})\\\n",
    "    .rename(columns ={'student_id':'count'})"
   ]
  },
  {
   "cell_type": "code",
   "execution_count": 22,
   "metadata": {},
   "outputs": [
    {
     "data": {
      "image/png": "[encoded data removed]",
      "text/plain": [
       "<Figure size 1008x432 with 1 Axes>"
      ]
     },
     "metadata": {
      "needs_background": "light"
     },
     "output_type": "display_data"
    }
   ],
   "source": [
    "# Schedule\n",
    "plt.figure(figsize=(14, 6))\n",
    "sns.barplot(x='paid', y='count', hue='grp', data=df_CR, palette=\"pastel\")\n",
    "plt.xlabel('Not paid/ Paid')\n",
    "plt.ylabel('Number of students')\n",
    "plt.show()\n"
   ]
  },
  {
   "cell_type": "markdown",
   "metadata": {},
   "source": [
    "### Visual Inspection\n",
    "\n",
    "A visual inspection shows that in the test group, user activity and the number of paid orders have increased compared to the control group. However, the conversion rate from activity to purchase has decreased:\n",
    "- In group A, CR = 5.07%\n",
    "- In group B, CR = 4.62%\n",
    "\n",
    "It is necessary to check whether the new payment mechanism actually decreased the purchase conversion rate.\n",
    "\n",
    "For this, I will use the chi-square test, as it involves categorical variables and we need to compare proportions between the groups.\n",
    "\n"
   ]
  },
  {
   "cell_type": "code",
   "execution_count": 23,
   "metadata": {},
   "outputs": [
    {
     "data": {
      "text/html": [
       "<div>\n",
       "<style scoped>\n",
       "    .dataframe tbody tr th:only-of-type {\n",
       "        vertical-align: middle;\n",
       "    }\n",
       "\n",
       "    .dataframe tbody tr th {\n",
       "        vertical-align: top;\n",
       "    }\n",
       "\n",
       "    .dataframe thead th {\n",
       "        text-align: right;\n",
       "    }\n",
       "</style>\n",
       "<table border=\"1\" class=\"dataframe\">\n",
       "  <thead>\n",
       "    <tr style=\"text-align: right;\">\n",
       "      <th>paid</th>\n",
       "      <th>0</th>\n",
       "      <th>1</th>\n",
       "    </tr>\n",
       "    <tr>\n",
       "      <th>grp</th>\n",
       "      <th></th>\n",
       "      <th></th>\n",
       "    </tr>\n",
       "  </thead>\n",
       "  <tbody>\n",
       "    <tr>\n",
       "      <th>A</th>\n",
       "      <td>1460</td>\n",
       "      <td>78</td>\n",
       "    </tr>\n",
       "    <tr>\n",
       "      <th>B</th>\n",
       "      <td>6489</td>\n",
       "      <td>314</td>\n",
       "    </tr>\n",
       "  </tbody>\n",
       "</table>\n",
       "</div>"
      ],
      "text/plain": [
       "paid     0    1\n",
       "grp            \n",
       "A     1460   78\n",
       "B     6489  314"
      ]
     },
     "execution_count": 23,
     "metadata": {},
     "output_type": "execute_result"
    }
   ],
   "source": [
    "pd.crosstab(df.grp, df.paid)"
   ]
  },
  {
   "cell_type": "markdown",
   "metadata": {},
   "source": [
    "## Testing"
   ]
  },
  {
   "cell_type": "code",
   "execution_count": 24,
   "metadata": {},
   "outputs": [],
   "source": [
    "exp, obs, stats = pg.chi2_independence(data=df, \n",
    "                                       x=\"grp\", \n",
    "                                       y=\"paid\")"
   ]
  },
  {
   "cell_type": "code",
   "execution_count": 25,
   "metadata": {},
   "outputs": [
    {
     "data": {
      "text/html": [
       "<div>\n",
       "<style scoped>\n",
       "    .dataframe tbody tr th:only-of-type {\n",
       "        vertical-align: middle;\n",
       "    }\n",
       "\n",
       "    .dataframe tbody tr th {\n",
       "        vertical-align: top;\n",
       "    }\n",
       "\n",
       "    .dataframe thead th {\n",
       "        text-align: right;\n",
       "    }\n",
       "</style>\n",
       "<table border=\"1\" class=\"dataframe\">\n",
       "  <thead>\n",
       "    <tr style=\"text-align: right;\">\n",
       "      <th></th>\n",
       "      <th>test</th>\n",
       "      <th>lambda</th>\n",
       "      <th>chi2</th>\n",
       "      <th>dof</th>\n",
       "      <th>pval</th>\n",
       "      <th>cramer</th>\n",
       "      <th>power</th>\n",
       "    </tr>\n",
       "  </thead>\n",
       "  <tbody>\n",
       "    <tr>\n",
       "      <th>0</th>\n",
       "      <td>pearson</td>\n",
       "      <td>1.000000</td>\n",
       "      <td>0.484808</td>\n",
       "      <td>1.0</td>\n",
       "      <td>0.486252</td>\n",
       "      <td>0.007624</td>\n",
       "      <td>0.107123</td>\n",
       "    </tr>\n",
       "    <tr>\n",
       "      <th>1</th>\n",
       "      <td>cressie-read</td>\n",
       "      <td>0.666667</td>\n",
       "      <td>0.482018</td>\n",
       "      <td>1.0</td>\n",
       "      <td>0.487510</td>\n",
       "      <td>0.007602</td>\n",
       "      <td>0.106787</td>\n",
       "    </tr>\n",
       "    <tr>\n",
       "      <th>2</th>\n",
       "      <td>log-likelihood</td>\n",
       "      <td>0.000000</td>\n",
       "      <td>0.476541</td>\n",
       "      <td>1.0</td>\n",
       "      <td>0.489993</td>\n",
       "      <td>0.007559</td>\n",
       "      <td>0.106127</td>\n",
       "    </tr>\n",
       "    <tr>\n",
       "      <th>3</th>\n",
       "      <td>freeman-tukey</td>\n",
       "      <td>-0.500000</td>\n",
       "      <td>0.472522</td>\n",
       "      <td>1.0</td>\n",
       "      <td>0.491829</td>\n",
       "      <td>0.007527</td>\n",
       "      <td>0.105643</td>\n",
       "    </tr>\n",
       "    <tr>\n",
       "      <th>4</th>\n",
       "      <td>mod-log-likelihood</td>\n",
       "      <td>-1.000000</td>\n",
       "      <td>0.468578</td>\n",
       "      <td>1.0</td>\n",
       "      <td>0.493642</td>\n",
       "      <td>0.007495</td>\n",
       "      <td>0.105168</td>\n",
       "    </tr>\n",
       "    <tr>\n",
       "      <th>5</th>\n",
       "      <td>neyman</td>\n",
       "      <td>-2.000000</td>\n",
       "      <td>0.460909</td>\n",
       "      <td>1.0</td>\n",
       "      <td>0.497200</td>\n",
       "      <td>0.007434</td>\n",
       "      <td>0.104245</td>\n",
       "    </tr>\n",
       "  </tbody>\n",
       "</table>\n",
       "</div>"
      ],
      "text/plain": [
       "                 test    lambda      chi2  dof      pval    cramer     power\n",
       "0             pearson  1.000000  0.484808  1.0  0.486252  0.007624  0.107123\n",
       "1        cressie-read  0.666667  0.482018  1.0  0.487510  0.007602  0.106787\n",
       "2      log-likelihood  0.000000  0.476541  1.0  0.489993  0.007559  0.106127\n",
       "3       freeman-tukey -0.500000  0.472522  1.0  0.491829  0.007527  0.105643\n",
       "4  mod-log-likelihood -1.000000  0.468578  1.0  0.493642  0.007495  0.105168\n",
       "5              neyman -2.000000  0.460909  1.0  0.497200  0.007434  0.104245"
      ]
     },
     "execution_count": 25,
     "metadata": {},
     "output_type": "execute_result"
    }
   ],
   "source": [
    "stats"
   ]
  },
  {
   "cell_type": "markdown",
   "metadata": {},
   "source": [
    "### p-value greater than 0.05 means the result is NOT statistically significant\n",
    "\n",
    "Therefore, we cannot reject the null hypothesis.\n",
    "\n",
    "> The null hypothesis is NOT rejected --> we could not prove that the new payment mechanism decreased the purchase conversion rate."
   ]
  },
  {
   "cell_type": "markdown",
   "metadata": {},
   "source": [
    "## Hypothesis 2:\n",
    "\n",
    "The average revenue per active user has changed.\n",
    "\n",
    "> ARPU = Total Revenue / Total number of active users\n",
    "\n",
    "> 𝐻0: The average revenue per active user is the same in groups A and B.\n",
    "\n",
    "> 𝐻1: The average revenue per active user differs between groups A and B."
   ]
  },
  {
   "cell_type": "code",
   "execution_count": 26,
   "metadata": {},
   "outputs": [
    {
     "data": {
      "text/html": [
       "<div>\n",
       "<style scoped>\n",
       "    .dataframe tbody tr th:only-of-type {\n",
       "        vertical-align: middle;\n",
       "    }\n",
       "\n",
       "    .dataframe tbody tr th {\n",
       "        vertical-align: top;\n",
       "    }\n",
       "\n",
       "    .dataframe thead th {\n",
       "        text-align: right;\n",
       "    }\n",
       "</style>\n",
       "<table border=\"1\" class=\"dataframe\">\n",
       "  <thead>\n",
       "    <tr style=\"text-align: right;\">\n",
       "      <th></th>\n",
       "      <th>grp</th>\n",
       "      <th>rev</th>\n",
       "    </tr>\n",
       "  </thead>\n",
       "  <tbody>\n",
       "    <tr>\n",
       "      <th>0</th>\n",
       "      <td>A</td>\n",
       "      <td>47.35</td>\n",
       "    </tr>\n",
       "    <tr>\n",
       "      <th>1</th>\n",
       "      <td>B</td>\n",
       "      <td>58.06</td>\n",
       "    </tr>\n",
       "  </tbody>\n",
       "</table>\n",
       "</div>"
      ],
      "text/plain": [
       "  grp    rev\n",
       "0   A  47.35\n",
       "1   B  58.06"
      ]
     },
     "execution_count": 26,
     "metadata": {},
     "output_type": "execute_result"
    }
   ],
   "source": [
    "# ARPU:\n",
    "arpu = df.groupby('grp')['rev'].mean().reset_index().round(2)\n",
    "arpu"
   ]
  },
  {
   "cell_type": "code",
   "execution_count": 27,
   "metadata": {},
   "outputs": [
    {
     "data": {
      "image/png": "[encoded data removed]",
      "text/plain": [
       "<Figure size 1008x432 with 1 Axes>"
      ]
     },
     "metadata": {
      "needs_background": "light"
     },
     "output_type": "display_data"
    }
   ],
   "source": [
    "# Schedule\n",
    "plt.figure(figsize=(14, 6))\n",
    "sns.barplot(data=arpu, x='grp', y='rev', palette=\"pastel\")\n",
    "plt.ylabel('ARPU')\n",
    "plt.xlabel('Groups')\n",
    "plt.show()\n",
    "\n",
    "\n"
   ]
  },
  {
   "cell_type": "markdown",
   "metadata": {},
   "source": [
    "# Checking for the normality of the distribution"
   ]
  },
  {
   "cell_type": "code",
   "execution_count": 28,
   "metadata": {},
   "outputs": [],
   "source": [
    "group_a = df[df['grp'] == 'A']['rev']\n",
    "group_b = df[df['grp'] == 'B']['rev']"
   ]
  },
  {
   "cell_type": "code",
   "execution_count": 29,
   "metadata": {},
   "outputs": [
    {
     "data": {
      "text/plain": [
       "<Figure size 432x288 with 0 Axes>"
      ]
     },
     "metadata": {},
     "output_type": "display_data"
    },
    {
     "data": {
      "image/png": "[encoded data removed]",
      "text/plain": [
       "<Figure size 432x288 with 1 Axes>"
      ]
     },
     "metadata": {
      "needs_background": "light"
     },
     "output_type": "display_data"
    }
   ],
   "source": [
    "plt.figure()\n",
    "sm.qqplot( group_a, line=\"r\")\n",
    "plt.show()\n"
   ]
  },
  {
   "cell_type": "code",
   "execution_count": 30,
   "metadata": {},
   "outputs": [
    {
     "data": {
      "text/plain": [
       "<Figure size 432x288 with 0 Axes>"
      ]
     },
     "metadata": {},
     "output_type": "display_data"
    },
    {
     "data": {
      "image/png": "[encoded data removed]",
      "text/plain": [
       "<Figure size 432x288 with 1 Axes>"
      ]
     },
     "metadata": {
      "needs_background": "light"
     },
     "output_type": "display_data"
    }
   ],
   "source": [
    "plt.figure()\n",
    "sm.qqplot( group_b, line=\"r\")\n",
    "plt.show()"
   ]
  },
  {
   "cell_type": "code",
   "execution_count": 31,
   "metadata": {},
   "outputs": [
    {
     "data": {
      "text/html": [
       "<div>\n",
       "<style scoped>\n",
       "    .dataframe tbody tr th:only-of-type {\n",
       "        vertical-align: middle;\n",
       "    }\n",
       "\n",
       "    .dataframe tbody tr th {\n",
       "        vertical-align: top;\n",
       "    }\n",
       "\n",
       "    .dataframe thead th {\n",
       "        text-align: right;\n",
       "    }\n",
       "</style>\n",
       "<table border=\"1\" class=\"dataframe\">\n",
       "  <thead>\n",
       "    <tr style=\"text-align: right;\">\n",
       "      <th></th>\n",
       "      <th>W</th>\n",
       "      <th>pval</th>\n",
       "      <th>normal</th>\n",
       "    </tr>\n",
       "  </thead>\n",
       "  <tbody>\n",
       "    <tr>\n",
       "      <th>A</th>\n",
       "      <td>2240.595797</td>\n",
       "      <td>0.0</td>\n",
       "      <td>False</td>\n",
       "    </tr>\n",
       "    <tr>\n",
       "      <th>B</th>\n",
       "      <td>7797.399212</td>\n",
       "      <td>0.0</td>\n",
       "      <td>False</td>\n",
       "    </tr>\n",
       "  </tbody>\n",
       "</table>\n",
       "</div>"
      ],
      "text/plain": [
       "             W  pval  normal\n",
       "A  2240.595797   0.0   False\n",
       "B  7797.399212   0.0   False"
      ]
     },
     "execution_count": 31,
     "metadata": {},
     "output_type": "execute_result"
    }
   ],
   "source": [
    "pg.normality(data=df, dv=\"rev\", group=\"grp\", method=\"normaltest\")"
   ]
  },
  {
   "cell_type": "markdown",
   "metadata": {},
   "source": [
    "The data is not normally distributed."
   ]
  },
  {
   "cell_type": "markdown",
   "metadata": {},
   "source": [
    "Let's examine the distribution of order amounts for the test and control groups."
   ]
  },
  {
   "cell_type": "code",
   "execution_count": 32,
   "metadata": {},
   "outputs": [
    {
     "data": {
      "text/plain": [
       "Text(0, 0.5, 'Frequency')"
      ]
     },
     "execution_count": 32,
     "metadata": {},
     "output_type": "execute_result"
    },
    {
     "data": {
      "image/png": "[encoded data removed]",
      "text/plain": [
       "<Figure size 1008x432 with 1 Axes>"
      ]
     },
     "metadata": {
      "needs_background": "light"
     },
     "output_type": "display_data"
    }
   ],
   "source": [
    "plt.figure(figsize=(14, 6))\n",
    "sns.histplot(group_a, kde=True, color='blue', bins=10)\n",
    "plt.title('ARPU allocation for Group A')\n",
    "plt.xlabel('Income')\n",
    "plt.ylabel('Frequency')\n"
   ]
  },
  {
   "cell_type": "code",
   "execution_count": 33,
   "metadata": {},
   "outputs": [
    {
     "data": {
      "image/png": "[encoded data removed]",
      "text/plain": [
       "<Figure size 1008x432 with 1 Axes>"
      ]
     },
     "metadata": {
      "needs_background": "light"
     },
     "output_type": "display_data"
    }
   ],
   "source": [
    "plt.figure(figsize=(14, 6))\n",
    "sns.histplot(group_b, kde=True, color='green', bins=10)\n",
    "plt.title('ARPU allocation for Group B')\n",
    "plt.xlabel('Income')\n",
    "plt.ylabel('Frequency')\n",
    "plt.show()"
   ]
  },
  {
   "cell_type": "markdown",
   "metadata": {},
   "source": [
    "### Visual Inspection\n",
    "\n",
    "A visual inspection shows that the average revenue per user has increased in the test group compared to the control group:\n",
    "\n",
    "- In group A, ARPU = 47.35\n",
    "- In group B, ARPU = 58.06\n",
    "\n",
    "It is necessary to check whether the new payment mechanism actually increased the average revenue per active user.\n",
    "\n",
    "The data is not normally distributed, but the sample size is sufficiently large (>30).\n",
    "\n",
    "For this, I will use a t-test, but I will first test for the equality of variances between the two distributions.\n"
   ]
  },
  {
   "cell_type": "markdown",
   "metadata": {},
   "source": [
    "## Testing"
   ]
  },
  {
   "cell_type": "markdown",
   "metadata": {},
   "source": [
    "> 𝐻0: The variances are equal.\n",
    "\n",
    "> 𝐻1: The variances are different."
   ]
  },
  {
   "cell_type": "code",
   "execution_count": 34,
   "metadata": {},
   "outputs": [
    {
     "data": {
      "text/plain": [
       "LeveneResult(statistic=1.5014608294336371, pvalue=0.22048133327049665)"
      ]
     },
     "execution_count": 34,
     "metadata": {},
     "output_type": "execute_result"
    }
   ],
   "source": [
    "# Checking the equality of variances using the Levene criterion\n",
    "ss.levene(group_a, group_b)"
   ]
  },
  {
   "cell_type": "markdown",
   "metadata": {},
   "source": [
    "### pvalue= 0.22048133327049665 \n",
    "\n",
    "The variances are equal in the two groups."
   ]
  },
  {
   "cell_type": "code",
   "execution_count": 35,
   "metadata": {},
   "outputs": [
    {
     "data": {
      "text/html": [
       "<div>\n",
       "<style scoped>\n",
       "    .dataframe tbody tr th:only-of-type {\n",
       "        vertical-align: middle;\n",
       "    }\n",
       "\n",
       "    .dataframe tbody tr th {\n",
       "        vertical-align: top;\n",
       "    }\n",
       "\n",
       "    .dataframe thead th {\n",
       "        text-align: right;\n",
       "    }\n",
       "</style>\n",
       "<table border=\"1\" class=\"dataframe\">\n",
       "  <thead>\n",
       "    <tr style=\"text-align: right;\">\n",
       "      <th></th>\n",
       "      <th>T</th>\n",
       "      <th>dof</th>\n",
       "      <th>alternative</th>\n",
       "      <th>p-val</th>\n",
       "      <th>CI95%</th>\n",
       "      <th>cohen-d</th>\n",
       "      <th>BF10</th>\n",
       "      <th>power</th>\n",
       "    </tr>\n",
       "  </thead>\n",
       "  <tbody>\n",
       "    <tr>\n",
       "      <th>T-test</th>\n",
       "      <td>-1.225341</td>\n",
       "      <td>8339</td>\n",
       "      <td>two-sided</td>\n",
       "      <td>0.220481</td>\n",
       "      <td>[-27.85, 6.42]</td>\n",
       "      <td>0.034597</td>\n",
       "      <td>0.067</td>\n",
       "      <td>0.231965</td>\n",
       "    </tr>\n",
       "  </tbody>\n",
       "</table>\n",
       "</div>"
      ],
      "text/plain": [
       "               T   dof alternative     p-val           CI95%   cohen-d   BF10  \\\n",
       "T-test -1.225341  8339   two-sided  0.220481  [-27.85, 6.42]  0.034597  0.067   \n",
       "\n",
       "           power  \n",
       "T-test  0.231965  "
      ]
     },
     "execution_count": 35,
     "metadata": {},
     "output_type": "execute_result"
    }
   ],
   "source": [
    "pg.ttest(x=df.query('grp == \"A\"')['rev'], \n",
    "         y=df.query('grp == \"B\"')['rev'], correction=False )\n",
    "\n",
    "# correction=False because the variances are not different"
   ]
  },
  {
   "cell_type": "markdown",
   "metadata": {},
   "source": [
    "### p-value = 0.220481 means the result is NOT statistically significant\n",
    "\n",
    "Therefore, we cannot reject the null hypothesis.\n",
    "\n",
    "> The null hypothesis is NOT rejected --> we could not prove that the new payment mechanism increased the average revenue per active user."
   ]
  },
  {
   "cell_type": "markdown",
   "metadata": {},
   "source": [
    "## Hypothesis 3:\n",
    "\n",
    "The average revenue per paying user has increased.\n",
    "\n",
    "> ARPPU = Total revenue from paying users / Number of paying users\n",
    "\n",
    "> 𝐻0: The average revenue per paying user is the same in groups A and B.\n",
    "\n",
    "> 𝐻1: The average revenue per paying user differs between groups A and B."
   ]
  },
  {
   "cell_type": "code",
   "execution_count": 36,
   "metadata": {},
   "outputs": [
    {
     "data": {
      "text/html": [
       "<div>\n",
       "<style scoped>\n",
       "    .dataframe tbody tr th:only-of-type {\n",
       "        vertical-align: middle;\n",
       "    }\n",
       "\n",
       "    .dataframe tbody tr th {\n",
       "        vertical-align: top;\n",
       "    }\n",
       "\n",
       "    .dataframe thead th {\n",
       "        text-align: right;\n",
       "    }\n",
       "</style>\n",
       "<table border=\"1\" class=\"dataframe\">\n",
       "  <thead>\n",
       "    <tr style=\"text-align: right;\">\n",
       "      <th></th>\n",
       "      <th>student_id</th>\n",
       "      <th>id</th>\n",
       "      <th>grp</th>\n",
       "      <th>rev</th>\n",
       "      <th>paid</th>\n",
       "    </tr>\n",
       "  </thead>\n",
       "  <tbody>\n",
       "    <tr>\n",
       "      <th>62</th>\n",
       "      <td>1184303</td>\n",
       "      <td>1184303</td>\n",
       "      <td>A</td>\n",
       "      <td>1530.0000</td>\n",
       "      <td>1</td>\n",
       "    </tr>\n",
       "    <tr>\n",
       "      <th>67</th>\n",
       "      <td>3354191</td>\n",
       "      <td>3354191</td>\n",
       "      <td>B</td>\n",
       "      <td>1900.0001</td>\n",
       "      <td>1</td>\n",
       "    </tr>\n",
       "    <tr>\n",
       "      <th>77</th>\n",
       "      <td>3278734</td>\n",
       "      <td>3278734</td>\n",
       "      <td>B</td>\n",
       "      <td>1900.0000</td>\n",
       "      <td>1</td>\n",
       "    </tr>\n",
       "    <tr>\n",
       "      <th>99</th>\n",
       "      <td>720651</td>\n",
       "      <td>720651</td>\n",
       "      <td>A</td>\n",
       "      <td>1980.0000</td>\n",
       "      <td>1</td>\n",
       "    </tr>\n",
       "    <tr>\n",
       "      <th>193</th>\n",
       "      <td>1232221</td>\n",
       "      <td>1232221</td>\n",
       "      <td>B</td>\n",
       "      <td>1900.0000</td>\n",
       "      <td>1</td>\n",
       "    </tr>\n",
       "  </tbody>\n",
       "</table>\n",
       "</div>"
      ],
      "text/plain": [
       "     student_id       id grp        rev  paid\n",
       "62      1184303  1184303   A  1530.0000     1\n",
       "67      3354191  3354191   B  1900.0001     1\n",
       "77      3278734  3278734   B  1900.0000     1\n",
       "99       720651   720651   A  1980.0000     1\n",
       "193     1232221  1232221   B  1900.0000     1"
      ]
     },
     "execution_count": 36,
     "metadata": {},
     "output_type": "execute_result"
    }
   ],
   "source": [
    "df_paid.head()"
   ]
  },
  {
   "cell_type": "code",
   "execution_count": 37,
   "metadata": {},
   "outputs": [
    {
     "data": {
      "text/html": [
       "<div>\n",
       "<style scoped>\n",
       "    .dataframe tbody tr th:only-of-type {\n",
       "        vertical-align: middle;\n",
       "    }\n",
       "\n",
       "    .dataframe tbody tr th {\n",
       "        vertical-align: top;\n",
       "    }\n",
       "\n",
       "    .dataframe thead th {\n",
       "        text-align: right;\n",
       "    }\n",
       "</style>\n",
       "<table border=\"1\" class=\"dataframe\">\n",
       "  <thead>\n",
       "    <tr style=\"text-align: right;\">\n",
       "      <th></th>\n",
       "      <th>grp</th>\n",
       "      <th>rev</th>\n",
       "    </tr>\n",
       "  </thead>\n",
       "  <tbody>\n",
       "    <tr>\n",
       "      <th>0</th>\n",
       "      <td>A</td>\n",
       "      <td>933.59</td>\n",
       "    </tr>\n",
       "    <tr>\n",
       "      <th>1</th>\n",
       "      <td>B</td>\n",
       "      <td>1257.88</td>\n",
       "    </tr>\n",
       "  </tbody>\n",
       "</table>\n",
       "</div>"
      ],
      "text/plain": [
       "  grp      rev\n",
       "0   A   933.59\n",
       "1   B  1257.88"
      ]
     },
     "execution_count": 37,
     "metadata": {},
     "output_type": "execute_result"
    }
   ],
   "source": [
    "# ARPPU:\n",
    "arppu = df_paid.groupby('grp')['rev'].mean().reset_index().round(2)\n",
    "arppu"
   ]
  },
  {
   "cell_type": "code",
   "execution_count": 38,
   "metadata": {},
   "outputs": [
    {
     "data": {
      "image/png": "[encoded data removed]",
      "text/plain": [
       "<Figure size 720x432 with 1 Axes>"
      ]
     },
     "metadata": {
      "needs_background": "light"
     },
     "output_type": "display_data"
    }
   ],
   "source": [
    "plt.figure(figsize=(10, 6))\n",
    "sns.barplot(data=arppu, x='grp', y='rev', palette='pastel')\n",
    "plt.ylabel('Arppu')\n",
    "plt.xlabel('Groups')\n",
    "\n",
    "plt.show()\n"
   ]
  },
  {
   "cell_type": "markdown",
   "metadata": {},
   "source": [
    "# Checking for the normality of the distribution"
   ]
  },
  {
   "cell_type": "code",
   "execution_count": 39,
   "metadata": {},
   "outputs": [],
   "source": [
    "group_arppu_a = df_paid[df_paid['grp'] == 'A']['rev']\n",
    "group_arppu_b = df_paid[df_paid['grp'] == 'B']['rev']"
   ]
  },
  {
   "cell_type": "code",
   "execution_count": 40,
   "metadata": {},
   "outputs": [
    {
     "data": {
      "text/plain": [
       "<Figure size 432x288 with 0 Axes>"
      ]
     },
     "metadata": {},
     "output_type": "display_data"
    },
    {
     "data": {
      "image/png": "[encoded data removed]",
      "text/plain": [
       "<Figure size 432x288 with 1 Axes>"
      ]
     },
     "metadata": {
      "needs_background": "light"
     },
     "output_type": "display_data"
    }
   ],
   "source": [
    "plt.figure()\n",
    "sm.qqplot( group_arppu_a, line=\"r\")\n",
    "plt.show()\n"
   ]
  },
  {
   "cell_type": "code",
   "execution_count": 41,
   "metadata": {},
   "outputs": [
    {
     "data": {
      "text/plain": [
       "<Figure size 432x288 with 0 Axes>"
      ]
     },
     "metadata": {},
     "output_type": "display_data"
    },
    {
     "data": {
      "image/png": "[encoded data removed]",
      "text/plain": [
       "<Figure size 432x288 with 1 Axes>"
      ]
     },
     "metadata": {
      "needs_background": "light"
     },
     "output_type": "display_data"
    }
   ],
   "source": [
    "plt.figure()\n",
    "sm.qqplot( group_arppu_b, line=\"r\")\n",
    "plt.show()"
   ]
  },
  {
   "cell_type": "code",
   "execution_count": 42,
   "metadata": {},
   "outputs": [
    {
     "data": {
      "text/html": [
       "<div>\n",
       "<style scoped>\n",
       "    .dataframe tbody tr th:only-of-type {\n",
       "        vertical-align: middle;\n",
       "    }\n",
       "\n",
       "    .dataframe tbody tr th {\n",
       "        vertical-align: top;\n",
       "    }\n",
       "\n",
       "    .dataframe thead th {\n",
       "        text-align: right;\n",
       "    }\n",
       "</style>\n",
       "<table border=\"1\" class=\"dataframe\">\n",
       "  <thead>\n",
       "    <tr style=\"text-align: right;\">\n",
       "      <th></th>\n",
       "      <th>W</th>\n",
       "      <th>pval</th>\n",
       "      <th>normal</th>\n",
       "    </tr>\n",
       "  </thead>\n",
       "  <tbody>\n",
       "    <tr>\n",
       "      <th>A</th>\n",
       "      <td>30.378420</td>\n",
       "      <td>2.531687e-07</td>\n",
       "      <td>False</td>\n",
       "    </tr>\n",
       "    <tr>\n",
       "      <th>B</th>\n",
       "      <td>6.795663</td>\n",
       "      <td>3.344572e-02</td>\n",
       "      <td>False</td>\n",
       "    </tr>\n",
       "  </tbody>\n",
       "</table>\n",
       "</div>"
      ],
      "text/plain": [
       "           W          pval  normal\n",
       "A  30.378420  2.531687e-07   False\n",
       "B   6.795663  3.344572e-02   False"
      ]
     },
     "execution_count": 42,
     "metadata": {},
     "output_type": "execute_result"
    }
   ],
   "source": [
    "pg.normality(data=df_paid, dv=\"rev\", group=\"grp\", method=\"normaltest\")"
   ]
  },
  {
   "cell_type": "markdown",
   "metadata": {},
   "source": [
    "The data is not normally distributed."
   ]
  },
  {
   "cell_type": "code",
   "execution_count": 43,
   "metadata": {},
   "outputs": [
    {
     "data": {
      "image/png": "[encoded data removed]",
      "text/plain": [
       "<Figure size 720x432 with 1 Axes>"
      ]
     },
     "metadata": {
      "needs_background": "light"
     },
     "output_type": "display_data"
    }
   ],
   "source": [
    "# Build a boxplot schedule by groups for paid orders\n",
    "plt.figure(figsize=(10, 6))\n",
    "sns.boxplot(x='grp', y='rev', data=df_paid)\n",
    "plt.xlabel('Groups')\n",
    "plt.ylabel('Revenue')\n",
    "plt.title('Boxplot of revenue by group')\n",
    "plt.show()"
   ]
  },
  {
   "cell_type": "markdown",
   "metadata": {},
   "source": [
    "Let's look at the distribution of the amount of orders for the test and control groups. "
   ]
  },
  {
   "cell_type": "code",
   "execution_count": 44,
   "metadata": {},
   "outputs": [
    {
     "data": {
      "text/plain": [
       "Text(0, 0.5, 'Frequency')"
      ]
     },
     "execution_count": 44,
     "metadata": {},
     "output_type": "execute_result"
    },
    {
     "data": {
      "image/png": "[encoded data removed]",
      "text/plain": [
       "<Figure size 1008x432 with 1 Axes>"
      ]
     },
     "metadata": {
      "needs_background": "light"
     },
     "output_type": "display_data"
    }
   ],
   "source": [
    "plt.figure(figsize=(14, 6))\n",
    "sns.histplot(group_arppu_a, kde=True, color='blue', bins=10)\n",
    "plt.title('ARPPU allocation for Group A')\n",
    "plt.xlabel('Income')\n",
    "plt.ylabel('Frequency')"
   ]
  },
  {
   "cell_type": "code",
   "execution_count": 45,
   "metadata": {},
   "outputs": [
    {
     "data": {
      "text/plain": [
       "Text(0, 0.5, 'Frequency')"
      ]
     },
     "execution_count": 45,
     "metadata": {},
     "output_type": "execute_result"
    },
    {
     "data": {
      "image/png": "[encoded data removed]",
      "text/plain": [
       "<Figure size 1008x432 with 1 Axes>"
      ]
     },
     "metadata": {
      "needs_background": "light"
     },
     "output_type": "display_data"
    }
   ],
   "source": [
    "plt.figure(figsize=(14, 6))\n",
    "sns.histplot(group_arppu_b, kde=True, color='green', bins=10)\n",
    "plt.title('ARPPU allocation for Group B')\n",
    "plt.xlabel('Income')\n",
    "plt.ylabel('Frequency')"
   ]
  },
  {
   "cell_type": "markdown",
   "metadata": {},
   "source": [
    "### Visual Inspection\n",
    "\n",
    "A visual inspection shows that the average transaction amount has increased in the test group compared to the control group:\n",
    "\n",
    "- In group A = 933.59\n",
    "- In group B = 1257.88\n",
    "\n",
    "It is necessary to check whether the new payment mechanism actually increased the average revenue per paying user.\n",
    "\n",
    "The data is not normally distributed, but the sample size is sufficiently large (>30).\n",
    "\n",
    "For this, I will use a t-test, but I will first test for the equality of variances between the two distributions."
   ]
  },
  {
   "cell_type": "markdown",
   "metadata": {},
   "source": [
    "## Testing"
   ]
  },
  {
   "cell_type": "markdown",
   "metadata": {},
   "source": [
    "> 𝐻0: The variances are equal.\n",
    "\n",
    "> 𝐻1: The variances are different."
   ]
  },
  {
   "cell_type": "code",
   "execution_count": 46,
   "metadata": {},
   "outputs": [
    {
     "data": {
      "text/plain": [
       "LeveneResult(statistic=3.0756816999816055, pvalue=0.08025675761347022)"
      ]
     },
     "execution_count": 46,
     "metadata": {},
     "output_type": "execute_result"
    }
   ],
   "source": [
    "# Проверка равенства дисперсий с помощью критерия Левена\n",
    "ss.levene(group_arppu_a, group_arppu_b)"
   ]
  },
  {
   "cell_type": "markdown",
   "metadata": {},
   "source": [
    "### pvalue= 0.08025675761347022\n",
    "\n",
    "The variances are equal in the two groups."
   ]
  },
  {
   "cell_type": "code",
   "execution_count": 47,
   "metadata": {},
   "outputs": [
    {
     "data": {
      "text/html": [
       "<div>\n",
       "<style scoped>\n",
       "    .dataframe tbody tr th:only-of-type {\n",
       "        vertical-align: middle;\n",
       "    }\n",
       "\n",
       "    .dataframe tbody tr th {\n",
       "        vertical-align: top;\n",
       "    }\n",
       "\n",
       "    .dataframe thead th {\n",
       "        text-align: right;\n",
       "    }\n",
       "</style>\n",
       "<table border=\"1\" class=\"dataframe\">\n",
       "  <thead>\n",
       "    <tr style=\"text-align: right;\">\n",
       "      <th></th>\n",
       "      <th>T</th>\n",
       "      <th>dof</th>\n",
       "      <th>alternative</th>\n",
       "      <th>p-val</th>\n",
       "      <th>CI95%</th>\n",
       "      <th>cohen-d</th>\n",
       "      <th>BF10</th>\n",
       "      <th>power</th>\n",
       "    </tr>\n",
       "  </thead>\n",
       "  <tbody>\n",
       "    <tr>\n",
       "      <th>T-test</th>\n",
       "      <td>-3.13378</td>\n",
       "      <td>390</td>\n",
       "      <td>two-sided</td>\n",
       "      <td>0.001856</td>\n",
       "      <td>[-527.74, -120.84]</td>\n",
       "      <td>0.39646</td>\n",
       "      <td>14.001</td>\n",
       "      <td>0.878211</td>\n",
       "    </tr>\n",
       "  </tbody>\n",
       "</table>\n",
       "</div>"
      ],
      "text/plain": [
       "              T  dof alternative     p-val               CI95%  cohen-d  \\\n",
       "T-test -3.13378  390   two-sided  0.001856  [-527.74, -120.84]  0.39646   \n",
       "\n",
       "          BF10     power  \n",
       "T-test  14.001  0.878211  "
      ]
     },
     "execution_count": 47,
     "metadata": {},
     "output_type": "execute_result"
    }
   ],
   "source": [
    "pg.ttest(group_arppu_a, group_arppu_b, correction=False)\n",
    "# correction=False because the variances are not different"
   ]
  },
  {
   "cell_type": "markdown",
   "metadata": {},
   "source": [
    "### p-value = 0.001856 means the result is statistically significant\n",
    "\n",
    "Therefore, we can reject the null hypothesis.\n",
    "\n",
    "> The null hypothesis is rejected\n",
    "\n",
    "- The average revenue per paying user in groups A and B differs in favor of the test group B.\n",
    "\n",
    "- According to the 95% confidence interval, the revenue in the control group (group A) was on average 120 to 527 units less than in the test group (group B).\n",
    "\n",
    "Thus, the results of the t-test show significant differences in the average revenue per paying user between the control and test groups.\n",
    "\n",
    "The test group demonstrates higher revenue, which is confirmed by statistically significant results and corresponding metrics."
   ]
  },
  {
   "cell_type": "markdown",
   "metadata": {},
   "source": [
    "# Conclusion\n",
    "\n",
    "Based on the conducted tests and data analysis, the following conclusions can be made:\n",
    "\n",
    "- User Conversion (Hypothesis 1): The change in the payment mechanism did not have a significant impact on the percentage of active users who made a purchase. The conversion rate in the control and test groups remained virtually unchanged, as confirmed by statistical tests.\n",
    "\n",
    "- Average Revenue Per User (ARPU, Hypothesis 2): The new payment mechanism did not lead to a significant increase in average revenue per active user. The difference in ARPU between the control and test groups is not statistically significant.\n",
    "\n",
    "- Average Revenue Per Paying User (ARPPU, Hypothesis 3): The new payment mechanism led to a significant increase in average revenue per paying user. The test results showed that the average revenue per paying user in the test group is substantially higher than in the control group.\n",
    "\n",
    "## Recommendations\n",
    "\n",
    "Continuation of the new payment mechanism:\n",
    "Despite the lack of significant changes in conversion and average revenue per active user, the substantial increase in average revenue per paying user indicates a positive impact of the new payment mechanism.\n",
    "\n",
    "It is recommended to continue using the new mechanism with possible optimization to increase conversion."
   ]
  },
  {
   "cell_type": "markdown",
   "metadata": {},
   "source": [
    "# SQL\n",
    "\n",
    "### The goal is to write an optimal query that identifies the number of very diligent students.\n",
    "\n",
    "### Condition:\n",
    "Educational courses consist of various lessons, each of which is made up of several small tasks. Each such small task is called a \"pea.\"\n",
    "\n",
    "A student is considered \"very diligent\" if they have correctly solved at least 20 peas at least once in the current month.\n",
    "\n",
    "### Table\n",
    "**default.peas**\n",
    "\n",
    "| Attribute Name | Attribute Type | Description                                    |\n",
    "|----------------|----------------|------------------------------------------------|\n",
    "| st_id          | int            | Student ID                                     |\n",
    "| timest         | timestamp      | Time of solving the pea                        |\n",
    "| correct        | bool           | Whether the pea was solved correctly           |\n",
    "| subject        | text           | Discipline in which the pea is located         |\n",
    "\n",
    "### Steps to Perform the Task\n",
    "\n",
    "1. **Load Data**: Connect to your SQL database and load the necessary table.\n",
    "2. **Write SQL Query**: Write the SQL query to find students who have correctly solved at least 20 peas in the current month.\n",
    "3. **Execute and Analyze**: Execute the query and analyze the results.\n"
   ]
  },
  {
   "cell_type": "code",
   "execution_count": 48,
   "metadata": {},
   "outputs": [],
   "source": [
    "# connection parameters\n",
    "connection_default = {'host': 'https://clickhouse.lab.karpov.courses',\n",
    "                      'database':'default',\n",
    "                      'user':'student', \n",
    "                      'password':'dpo_python_2020'\n",
    "                     }"
   ]
  },
  {
   "cell_type": "code",
   "execution_count": 49,
   "metadata": {},
   "outputs": [
    {
     "name": "stdout",
     "output_type": "stream",
     "text": [
      "Total number of diligent students: 136\n"
     ]
    }
   ],
   "source": [
    "# Request and get data from clickhouse to pandas dataframe\n",
    "query = \"\"\"\n",
    "SELECT \n",
    "    COUNT(*)\n",
    "FROM (\n",
    "    WITH (\n",
    "        SELECT MAX(toStartOfMonth(timest))\n",
    "        FROM peas\n",
    "        ) As last_date\n",
    "        \n",
    "    SELECT \n",
    "        st_id,\n",
    "        COUNT(correct) as count_corrct\n",
    "    FROM \n",
    "        peas\n",
    "    WHERE \n",
    "         correct = 1 AND toStartOfMonth(timest) = last_date\n",
    "    GROUP BY \n",
    "        st_id\n",
    "    )\n",
    "WHERE\n",
    "count_corrct > 19 \n",
    "\"\"\"\n",
    "df = ph.read_clickhouse(query, connection=connection_default)\n",
    "print(f'Total number of diligent students: {df.iloc[0,0]}')"
   ]
  },
  {
   "cell_type": "markdown",
   "metadata": {},
   "source": [
    "# SQL\n",
    "### Objective: Need to extract the following information about user groups in a single query:\n",
    "\n",
    "- **ARPU (Average Revenue Per User)**\n",
    "- **ARPAU (Average Revenue Per Active User)**\n",
    "- **CR (Conversion Rate) to purchase**\n",
    "- **CR of active users to purchase**\n",
    "- **CR of users from activity in math (subject = 'math') to purchasing the math course**\n",
    "\n",
    "#### Definitions:\n",
    "\n",
    "- **ARPU** is calculated relative to all users in the groups.\n",
    "- **Active user** is defined as a user who has correctly solved more than 10 tasks in any discipline.\n",
    "- **Active in math** is defined as a user who has correctly solved 2 or more tasks in math.\n",
    "\n",
    "### Condition\n",
    "\n",
    "The educational platform offers students a trial model where they can solve up to 30 peas for free each day. To access an unlimited number of tasks in a specific discipline, students need to purchase full access.\n",
    "\n",
    "The team conducted an experiment testing a new payment screen.\n",
    "\n",
    "### Tables\n",
    "\n",
    "**default.peas**\n",
    "\n",
    "| Attribute Name | Attribute Type | Description                                    |\n",
    "|----------------|----------------|------------------------------------------------|\n",
    "| st_id          | int            | Student ID                                     |\n",
    "| timest         | timestamp      | Time of solving the pea                        |\n",
    "| correct        | bool           | Whether the pea was solved correctly           |\n",
    "| subject        | text           | Discipline in which the pea is located         |\n",
    "\n",
    "**default.studs**\n",
    "\n",
    "| Attribute Name | Attribute Type | Description                                    |\n",
    "|----------------|----------------|------------------------------------------------|\n",
    "| st_id          | int            | Student ID                                     |\n",
    "| test_grp       | text           | Label of the student in this experiment        |\n",
    "\n",
    "**default.final_project_check**\n",
    "\n",
    "| Attribute Name | Attribute Type | Description                                    |\n",
    "|----------------|----------------|------------------------------------------------|\n",
    "| st_id          | int            | Student ID                                     |\n",
    "| sale_time      | timestamp      | Time of purchase                              |\n",
    "| money          | int            | Price at which the course was purchased       |\n",
    "| subject        | text           | Discipline in which the course was purchased  |\n",
    "\n",
    "\n"
   ]
  },
  {
   "cell_type": "code",
   "execution_count": 50,
   "metadata": {},
   "outputs": [
    {
     "data": {
      "text/html": [
       "<div>\n",
       "<style scoped>\n",
       "    .dataframe tbody tr th:only-of-type {\n",
       "        vertical-align: middle;\n",
       "    }\n",
       "\n",
       "    .dataframe tbody tr th {\n",
       "        vertical-align: top;\n",
       "    }\n",
       "\n",
       "    .dataframe thead th {\n",
       "        text-align: right;\n",
       "    }\n",
       "</style>\n",
       "<table border=\"1\" class=\"dataframe\">\n",
       "  <thead>\n",
       "    <tr style=\"text-align: right;\">\n",
       "      <th></th>\n",
       "      <th>grp</th>\n",
       "      <th>ARPU</th>\n",
       "      <th>ARPAU</th>\n",
       "      <th>CR</th>\n",
       "      <th>CR_activ</th>\n",
       "      <th>CR_math</th>\n",
       "    </tr>\n",
       "  </thead>\n",
       "  <tbody>\n",
       "    <tr>\n",
       "      <th>0</th>\n",
       "      <td>control</td>\n",
       "      <td>4540.98</td>\n",
       "      <td>10820.31</td>\n",
       "      <td>0.05</td>\n",
       "      <td>0.12</td>\n",
       "      <td>0.18</td>\n",
       "    </tr>\n",
       "    <tr>\n",
       "      <th>1</th>\n",
       "      <td>pilot</td>\n",
       "      <td>11508.47</td>\n",
       "      <td>35000.00</td>\n",
       "      <td>0.11</td>\n",
       "      <td>0.34</td>\n",
       "      <td>0.40</td>\n",
       "    </tr>\n",
       "  </tbody>\n",
       "</table>\n",
       "</div>"
      ],
      "text/plain": [
       "       grp      ARPU     ARPAU    CR  CR_activ  CR_math\n",
       "0  control   4540.98  10820.31  0.05      0.12     0.18\n",
       "1    pilot  11508.47  35000.00  0.11      0.34     0.40"
      ]
     },
     "execution_count": 50,
     "metadata": {},
     "output_type": "execute_result"
    }
   ],
   "source": [
    "# Request and get data from clickhouse to pandas dataframe\n",
    "query = \"\"\"\n",
    "SELECT\n",
    "  all_studs.test_grp AS grp,\n",
    "  SUM(paid.money) / COUNT(DISTINCT all_studs.st_id) AS ARPU,\n",
    "  SUM(paid.money) / COUNT(DISTINCT activ.st_id) as ARPAU,\n",
    "  COUNT(DISTINCT paid.st_id) / COUNT(DISTINCT all_studs.st_id) as CR,\n",
    "  COUNT(DISTINCT paid.st_id) / COUNT(DISTINCT activ.st_id) as CR_activ,\n",
    "  COUNT(DISTINCT paid_math.st_id) / COUNT(DISTINCT activ_math.st_id) as CR_math\n",
    "FROM\n",
    "  studs AS all_studs --- все студенты\n",
    "  LEFT JOIN (\n",
    "    SELECT\n",
    "      a.st_id,\n",
    "      COUNT(a.st_id) AS count_correct,\n",
    "      b.test_grp AS test_grp\n",
    "    FROM\n",
    "      peas AS a\n",
    "      LEFT JOIN studs AS b ON a.st_id = b.st_id\n",
    "    WHERE\n",
    "      a.correct == 1\n",
    "    GROUP BY\n",
    "      b.test_grp,\n",
    "      a.st_id\n",
    "    HAVING\n",
    "      count_correct > 10\n",
    "  ) AS activ --- активные студенты\n",
    "  ON all_studs.st_id = activ.st_id\n",
    "  LEFT JOIN final_project_check AS paid --- все кто оплатил\n",
    "  ON all_studs.st_id = paid.st_id\n",
    "  LEFT JOIN (\n",
    "    SELECT\n",
    "      a.st_id,\n",
    "      COUNT(*) as count_correct,\n",
    "      b.test_grp as test_grp\n",
    "    FROM\n",
    "      peas as a\n",
    "      LEFT JOIN studs as b ON a.st_id = b.st_id\n",
    "    WHERE\n",
    "      correct == 1\n",
    "      and subject == 'Math'\n",
    "    GROUP BY\n",
    "      b.test_grp,\n",
    "      a.st_id\n",
    "    HAVING\n",
    "      count_correct >= 2\n",
    "  ) as activ_math --- активные по математике\n",
    "  ON all_studs.st_id = activ_math.st_id\n",
    "  LEFT JOIN (\n",
    "    SELECT\n",
    "      b.test_grp,\n",
    "      a.st_id\n",
    "    FROM\n",
    "      final_project_check as a\n",
    "      LEFT JOIN studs as b ON a.st_id = b.st_id\n",
    "    WHERE\n",
    "      subject = 'Math'\n",
    "    GROUP BY\n",
    "      b.test_grp,\n",
    "      a.st_id\n",
    "  ) as paid_math -- все кто оплатил математику\n",
    "  ON all_studs.st_id = paid_math.st_id\n",
    "GROUP BY\n",
    "  all_studs.test_grp\n",
    " \n",
    "\"\"\"\n",
    "answer = ph.read_clickhouse(query=query, connection=connection_default)\n",
    "answer.round(2)"
   ]
  },
  {
   "cell_type": "markdown",
   "metadata": {},
   "source": [
    "# Python\n",
    "\n",
    "## Objective\n",
    "\n",
    "1. **Implement a function** that automatically loads information from the additional file `groups_add.csv` (headers might differ) and recalculates metrics based on additional parameters.\n",
    "\n",
    "2. **Implement a function** that generates plots for the obtained metrics.\n",
    "\n",
    "To achieve this, the following functions will be implemented:\n",
    "\n",
    "1. **Preprocessing Function**: Preprocesses the data similarly to how it was done in the first task.\n",
    "2. **Metrics Calculation Function**: Calculates the metrics chosen in the first task.\n",
    "3. **Data Loading Function**: Opens and loads data from the additional file.\n",
    "4. **Plotting Function**: Generates plots based on the metrics."
   ]
  },
  {
   "cell_type": "code",
   "execution_count": 51,
   "metadata": {},
   "outputs": [],
   "source": [
    "def read_yd_csv(url_groups, separator):\n",
    "    \"\"\"\n",
    "    Reads a CSV file from Yandex Disk using a public URL and the specified separator.\n",
    "    \n",
    "    Parameters:\n",
    "    - url_groups (str): Public URL of the CSV file on Yandex Disk.\n",
    "    - separator (str): Separator used in the CSV file.\n",
    "    \n",
    "    Returns:\n",
    "    - df (DataFrame): DataFrame created from the downloaded CSV file.\n",
    "    \"\"\"\n",
    "    \n",
    "    # Base URL for accessing Yandex Disk\n",
    "    base_url = 'https://cloud-api.yandex.net/v1/disk/public/resources/download?'\n",
    "    \n",
    "    # Create the final URL for downloading the file,\n",
    "    # combining the base URL and query parameters using urlencode() from the urllib.parse module\n",
    "    final_url_groups = base_url + urlencode(dict(public_key=url_groups))  \n",
    "    \n",
    "    # Make a request to the Yandex Disk API to download the file using the final URL\n",
    "    response_groups = requests.get(final_url_groups)  \n",
    "    \n",
    "    # The requests.get() function returns a response in JSON format, from which the download URL ('href') is extracted\n",
    "    download_url_groups = response_groups.json()['href']\n",
    "    \n",
    "    # Read the CSV file using the obtained URL and specified separator\n",
    "    df = pd.read_csv(download_url_groups, sep=separator)\n",
    "    \n",
    "    return df"
   ]
  },
  {
   "cell_type": "code",
   "execution_count": 52,
   "metadata": {},
   "outputs": [],
   "source": [
    "df_groups = read_yd_csv('https://disk.yandex.ru/d/UhyYx41rTt3clQ', ';')\n",
    "df_active_studs = read_yd_csv('https://disk.yandex.ru/d/Tbs44Bm6H_FwFQ', ';' )\n",
    "df_checks = read_yd_csv('https://disk.yandex.ru/d/pH1q-VqcxXjsVA', ';')"
   ]
  },
  {
   "cell_type": "markdown",
   "metadata": {},
   "source": [
    "### 1. Conversion Rate\n",
    "\n",
    "The percentage of users who made a purchase out of the total number of active users.\n",
    "\n",
    "**Formula:**\n",
    "\n",
    "> Conversion Rate = (Number of users who made a purchase / Total number of active users) × 100\n",
    "\n",
    "### 2. Average Revenue Per User (ARPU)\n",
    "\n",
    "The average revenue generated from each active user.\n",
    "\n",
    "**Formula:**\n",
    "\n",
    "> ARPU = Total Revenue / Total number of active users\n",
    "\n",
    "### 3. Average Revenue Per Paying User (ARPPU)\n",
    "\n",
    "The average revenue from users who made a purchase.\n",
    "\n",
    "**Formula:**\n",
    "\n",
    "> ARPPU = Total revenue from paying users / Number of paying users\n"
   ]
  },
  {
   "cell_type": "code",
   "execution_count": 53,
   "metadata": {},
   "outputs": [],
   "source": [
    "def preparation(df):\n",
    "    \"\"\"\n",
    "    Preprocesses data for further analysis.\n",
    "\n",
    "    The function performs the following steps:\n",
    "    1. Merges active student data with the input DataFrame based on student_id.\n",
    "    2. Merges the resulting data with payment data based on student_id.\n",
    "    3. Adds a new column 'paid' which takes the value 1 if there is a payment record, and 0 if there is no record.\n",
    "    4. Fills missing values in the 'rev' column with zeros.\n",
    "\n",
    "    Parameters:\n",
    "    df (DataFrame): Input DataFrame containing student data.\n",
    "\n",
    "    Returns:\n",
    "    DataFrame: Preprocessed DataFrame.\n",
    "    \"\"\"\n",
    "    # Merge active student data with the input DataFrame\n",
    "    df = df_active_studs.merge(df, left_on=\"student_id\", right_on=\"id\")\n",
    "    \n",
    "    # Merge the resulting data with payment data\n",
    "    df = df.merge(df_checks, how='left', on='student_id')\n",
    "    \n",
    "    # Add 'paid' column\n",
    "    df['paid'] = np.where(df['rev'].isnull(), 0, 1)\n",
    "    \n",
    "    # Fill missing values in the 'rev' column with zeros\n",
    "    df['rev'].fillna(0, inplace=True)\n",
    "    \n",
    "    return df\n"
   ]
  },
  {
   "cell_type": "code",
   "execution_count": 54,
   "metadata": {},
   "outputs": [
    {
     "data": {
      "text/html": [
       "<div>\n",
       "<style scoped>\n",
       "    .dataframe tbody tr th:only-of-type {\n",
       "        vertical-align: middle;\n",
       "    }\n",
       "\n",
       "    .dataframe tbody tr th {\n",
       "        vertical-align: top;\n",
       "    }\n",
       "\n",
       "    .dataframe thead th {\n",
       "        text-align: right;\n",
       "    }\n",
       "</style>\n",
       "<table border=\"1\" class=\"dataframe\">\n",
       "  <thead>\n",
       "    <tr style=\"text-align: right;\">\n",
       "      <th></th>\n",
       "      <th>student_id</th>\n",
       "      <th>id</th>\n",
       "      <th>grp</th>\n",
       "      <th>rev</th>\n",
       "      <th>paid</th>\n",
       "    </tr>\n",
       "  </thead>\n",
       "  <tbody>\n",
       "    <tr>\n",
       "      <th>0</th>\n",
       "      <td>581585</td>\n",
       "      <td>581585</td>\n",
       "      <td>A</td>\n",
       "      <td>0.0</td>\n",
       "      <td>0</td>\n",
       "    </tr>\n",
       "    <tr>\n",
       "      <th>1</th>\n",
       "      <td>3276743</td>\n",
       "      <td>3276743</td>\n",
       "      <td>B</td>\n",
       "      <td>0.0</td>\n",
       "      <td>0</td>\n",
       "    </tr>\n",
       "    <tr>\n",
       "      <th>2</th>\n",
       "      <td>4238589</td>\n",
       "      <td>4238589</td>\n",
       "      <td>A</td>\n",
       "      <td>0.0</td>\n",
       "      <td>0</td>\n",
       "    </tr>\n",
       "    <tr>\n",
       "      <th>3</th>\n",
       "      <td>4475369</td>\n",
       "      <td>4475369</td>\n",
       "      <td>B</td>\n",
       "      <td>0.0</td>\n",
       "      <td>0</td>\n",
       "    </tr>\n",
       "    <tr>\n",
       "      <th>4</th>\n",
       "      <td>5481015</td>\n",
       "      <td>5481015</td>\n",
       "      <td>B</td>\n",
       "      <td>0.0</td>\n",
       "      <td>0</td>\n",
       "    </tr>\n",
       "  </tbody>\n",
       "</table>\n",
       "</div>"
      ],
      "text/plain": [
       "   student_id       id grp  rev  paid\n",
       "0      581585   581585   A  0.0     0\n",
       "1     3276743  3276743   B  0.0     0\n",
       "2     4238589  4238589   A  0.0     0\n",
       "3     4475369  4475369   B  0.0     0\n",
       "4     5481015  5481015   B  0.0     0"
      ]
     },
     "execution_count": 54,
     "metadata": {},
     "output_type": "execute_result"
    }
   ],
   "source": [
    "df = preparation(df_groups)\n",
    "df.head()"
   ]
  },
  {
   "cell_type": "code",
   "execution_count": 55,
   "metadata": {},
   "outputs": [],
   "source": [
    "def metrics(df):\n",
    "    \"\"\"\n",
    "    Calculates and returns selected metrics for analysis.\n",
    "\n",
    "    The function performs the following steps:\n",
    "    1. Calculates Conversion Rate (CR) - the percentage of users who made a purchase out of the active users.\n",
    "    2. Calculates Average Revenue Per User (ARPU).\n",
    "    3. Calculates Average Revenue Per Paying User (ARPPU).\n",
    "\n",
    "    Parameters:\n",
    "    df (DataFrame): Input DataFrame containing student data, their activity, and payment information.\n",
    "\n",
    "    Returns:\n",
    "    DataFrame: DataFrame with calculated metrics (CR, ARPU, ARPPU) for each group.\n",
    "    \"\"\"\n",
    "    # Calculate Conversion Rate (CR)\n",
    "    CR = (\n",
    "        df.query('paid == 1')\n",
    "        .groupby('grp')\n",
    "        .agg({'student_id': 'count'}) / \n",
    "        df.groupby('grp')\n",
    "        .agg({'student_id': 'count'})\n",
    "    ).mul(100).reset_index().rename(columns={'student_id': 'CR'}).round(2)\n",
    "    \n",
    "    # Calculate Average Revenue Per User (ARPU)\n",
    "    ARPU = df.groupby('grp')['rev'].mean().reset_index().rename(columns={'rev': 'ARPU'}).round(2)\n",
    "    \n",
    "    # Calculate Average Revenue Per Paying User (ARPPU)\n",
    "    ARPPU = df.query('paid == 1').groupby('grp')['rev'].mean().reset_index().rename(columns={'rev': 'ARPPU'}).round(2)\n",
    "    \n",
    "    # Combine all metrics into one DataFrame\n",
    "    result = pd.concat([CR.set_index('grp'), ARPU.set_index('grp'), ARPPU.set_index('grp')], axis=1).reset_index()\n",
    "    \n",
    "    return result\n",
    "\n"
   ]
  },
  {
   "cell_type": "code",
   "execution_count": 56,
   "metadata": {},
   "outputs": [
    {
     "data": {
      "text/html": [
       "<div>\n",
       "<style scoped>\n",
       "    .dataframe tbody tr th:only-of-type {\n",
       "        vertical-align: middle;\n",
       "    }\n",
       "\n",
       "    .dataframe tbody tr th {\n",
       "        vertical-align: top;\n",
       "    }\n",
       "\n",
       "    .dataframe thead th {\n",
       "        text-align: right;\n",
       "    }\n",
       "</style>\n",
       "<table border=\"1\" class=\"dataframe\">\n",
       "  <thead>\n",
       "    <tr style=\"text-align: right;\">\n",
       "      <th></th>\n",
       "      <th>grp</th>\n",
       "      <th>CR</th>\n",
       "      <th>ARPU</th>\n",
       "      <th>ARPPU</th>\n",
       "    </tr>\n",
       "  </thead>\n",
       "  <tbody>\n",
       "    <tr>\n",
       "      <th>0</th>\n",
       "      <td>A</td>\n",
       "      <td>5.08</td>\n",
       "      <td>47.44</td>\n",
       "      <td>933.59</td>\n",
       "    </tr>\n",
       "    <tr>\n",
       "      <th>1</th>\n",
       "      <td>B</td>\n",
       "      <td>4.61</td>\n",
       "      <td>57.86</td>\n",
       "      <td>1255.83</td>\n",
       "    </tr>\n",
       "  </tbody>\n",
       "</table>\n",
       "</div>"
      ],
      "text/plain": [
       "  grp    CR   ARPU    ARPPU\n",
       "0   A  5.08  47.44   933.59\n",
       "1   B  4.61  57.86  1255.83"
      ]
     },
     "execution_count": 56,
     "metadata": {},
     "output_type": "execute_result"
    }
   ],
   "source": [
    "# Displaying metrics before adding additional information\n",
    "first_metriks = metrics(df)\n",
    "first_metriks "
   ]
  },
  {
   "cell_type": "code",
   "execution_count": 57,
   "metadata": {},
   "outputs": [],
   "source": [
    "def add_data(url_groups, separator, df_groups):\n",
    "    \"\"\"\n",
    "    Adds an additional list of user IDs to the main DataFrame and calculates metrics.\n",
    "\n",
    "    The function performs the following steps:\n",
    "    1. Downloads new user data from Yandex Disk.\n",
    "    2. Renames columns for compatibility.\n",
    "    3. Merges the main user list with the additional one.\n",
    "    4. Preprocesses the merged data.\n",
    "    5. Calculates metrics for the merged DataFrame.\n",
    "\n",
    "    Parameters:\n",
    "    url_groups (str): Public URL on Yandex Disk for downloading the data.\n",
    "    separator (str): Separator used in the CSV file.\n",
    "    df_groups (DataFrame): Main DataFrame with user data.\n",
    "\n",
    "    Returns:\n",
    "    DataFrame: DataFrame with calculated metrics (CR, ARPU, ARPPU) for each group.\n",
    "    \"\"\"\n",
    "    # Read the new data\n",
    "    base_url = 'https://cloud-api.yandex.net/v1/disk/public/resources/download?'\n",
    "    final_url_groups = base_url + urlencode(dict(public_key=url_groups))\n",
    "    response_groups = requests.get(final_url_groups)\n",
    "    download_url_groups = response_groups.json()['href']\n",
    "    df_add = pd.read_csv(download_url_groups, sep=separator)\n",
    "    \n",
    "    # Rename columns\n",
    "    df_add.columns = ['id', 'grp']\n",
    "    \n",
    "    # Add the additional list of users to the main one\n",
    "    df_groups_2 = pd.concat([df_groups, df_add], ignore_index=True)\n",
    "    \n",
    "    # Preprocess the merged data\n",
    "    df_new = preparation(df_groups_2)\n",
    "    \n",
    "    # Calculate metrics for the merged DataFrame\n",
    "    new_result = metrics(df_new)\n",
    "    \n",
    "    return new_result\n"
   ]
  },
  {
   "cell_type": "code",
   "execution_count": 58,
   "metadata": {},
   "outputs": [
    {
     "data": {
      "text/html": [
       "<div>\n",
       "<style scoped>\n",
       "    .dataframe tbody tr th:only-of-type {\n",
       "        vertical-align: middle;\n",
       "    }\n",
       "\n",
       "    .dataframe tbody tr th {\n",
       "        vertical-align: top;\n",
       "    }\n",
       "\n",
       "    .dataframe thead th {\n",
       "        text-align: right;\n",
       "    }\n",
       "</style>\n",
       "<table border=\"1\" class=\"dataframe\">\n",
       "  <thead>\n",
       "    <tr style=\"text-align: right;\">\n",
       "      <th></th>\n",
       "      <th>grp</th>\n",
       "      <th>CR</th>\n",
       "      <th>ARPU</th>\n",
       "      <th>ARPPU</th>\n",
       "    </tr>\n",
       "  </thead>\n",
       "  <tbody>\n",
       "    <tr>\n",
       "      <th>0</th>\n",
       "      <td>A</td>\n",
       "      <td>5.07</td>\n",
       "      <td>47.35</td>\n",
       "      <td>933.59</td>\n",
       "    </tr>\n",
       "    <tr>\n",
       "      <th>1</th>\n",
       "      <td>B</td>\n",
       "      <td>4.62</td>\n",
       "      <td>58.06</td>\n",
       "      <td>1257.88</td>\n",
       "    </tr>\n",
       "  </tbody>\n",
       "</table>\n",
       "</div>"
      ],
      "text/plain": [
       "  grp    CR   ARPU    ARPPU\n",
       "0   A  5.07  47.35   933.59\n",
       "1   B  4.62  58.06  1257.88"
      ]
     },
     "execution_count": 58,
     "metadata": {},
     "output_type": "execute_result"
    }
   ],
   "source": [
    "# Displaying metrics with additional user IDs\n",
    "new_metric = add_data('https://disk.yandex.ru/d/5Kxrz02m3IBUwQ', ',', df_groups)\n",
    "new_metric"
   ]
  },
  {
   "cell_type": "code",
   "execution_count": 59,
   "metadata": {},
   "outputs": [],
   "source": [
    "def graphics(metrics):\n",
    "    \"\"\"\n",
    "    Creates plots for the obtained metrics.\n",
    "\n",
    "    The function generates 3 plots in the form of subplots:\n",
    "    1. Conversion Rate (CR)\n",
    "    2. Average Revenue Per User (ARPU)\n",
    "    3. Average Revenue Per Paying User (ARPPU)\n",
    "\n",
    "    Parameters:\n",
    "    metrics (DataFrame): DataFrame with calculated metrics (CR, ARPU, ARPPU) for each group.\n",
    "\n",
    "    Returns:\n",
    "    None\n",
    "    \"\"\"\n",
    "    # Create a figure with 2 rows and 2 columns\n",
    "    fig, axes = plt.subplots(2, 2, figsize=(14, 10))\n",
    "    sns.set_palette(\"pastel\")\n",
    "    \n",
    "    # Conversion Rate (CR)\n",
    "    sns.barplot(ax=axes[0, 0], data=metrics, x='grp', y='CR')\n",
    "    axes[0, 0].set_ylabel('CR, %')\n",
    "    axes[0, 0].set_xlabel('Groups')\n",
    "    axes[0, 0].set_title('Conversion Rate')\n",
    "    \n",
    "    # Average Revenue Per User (ARPU)\n",
    "    sns.barplot(ax=axes[0, 1], data=metrics, x='grp', y='ARPU')\n",
    "    axes[0, 1].set_ylabel('ARPU')\n",
    "    axes[0, 1].set_xlabel('Groups')\n",
    "    axes[0, 1].set_title('Average Revenue Per User (ARPU)')\n",
    "    \n",
    "    # Remove unused subplot (leave it empty)\n",
    "    fig.delaxes(axes[1, 0])\n",
    "    \n",
    "    # Average Revenue Per Paying User (ARPPU)\n",
    "    sns.barplot(ax=axes[1, 1], data=metrics, x='grp', y='ARPPU')\n",
    "    axes[1, 1].set_ylabel('ARPPU')\n",
    "    axes[1, 1].set_xlabel('Groups')\n",
    "    axes[1, 1].set_title('Average Revenue Per Paying User (ARPPU)')\n",
    "\n",
    "    # Automatically adjust the figure layout\n",
    "    plt.tight_layout()\n",
    "    plt.show()\n"
   ]
  },
  {
   "cell_type": "code",
   "execution_count": 60,
   "metadata": {},
   "outputs": [
    {
     "data": {
      "image/png": "[encoded data removed]",
      "text/plain": [
       "<Figure size 1008x720 with 3 Axes>"
      ]
     },
     "metadata": {
      "needs_background": "light"
     },
     "output_type": "display_data"
    }
   ],
   "source": [
    "graphics(new_metric)"
   ]
  },
  {
   "cell_type": "code",
   "execution_count": null,
   "metadata": {},
   "outputs": [],
   "source": []
  }
 ],
 "metadata": {
  "kernelspec": {
   "display_name": "Python 3",
   "language": "python",
   "name": "python3"
  },
  "language_info": {
   "codemirror_mode": {
    "name": "ipython",
    "version": 3
   },
   "file_extension": ".py",
   "mimetype": "text/x-python",
   "name": "python",
   "nbconvert_exporter": "python",
   "pygments_lexer": "ipython3",
   "version": "3.7.3"
  }
 },
 "nbformat": 4,
 "nbformat_minor": 4
}
